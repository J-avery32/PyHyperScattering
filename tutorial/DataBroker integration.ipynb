{
 "cells": [
  {
   "cell_type": "markdown",
   "id": "6de6e1d1-3328-4fe5-a95c-fe5d472a1eca",
   "metadata": {},
   "source": [
    "# instructions for setting up environment:\n",
    "# Create a new environment:\n",
    "\n",
    "conda create -n rsoxs-databroker python=3.7\n",
    "conda activate rsoxs-databroker\n",
    "\n",
    "# Clone the tiled and databroker repos:\n",
    "\n",
    "git clone https://github.com/bluesky/tiled\n",
    "git clone https://github.com/bluesky/databroker\n",
    "\n",
    "# Pip install tiled...\n",
    "\n",
    "pip install -e tiled[complete]\n",
    "\n",
    "# ... and the tiled-refactor branch of databroker\n",
    "\n",
    "cd databroker/\n",
    "git fetch\n",
    "git checkout tiled-refactor\n",
    "pip install -e .[complete]\n",
    "cd ..\n",
    "\n",
    "# Pip install some other packages:\n",
    "\n",
    "pip install ipython area-detector-handlers\n",
    "\n",
    "# conda install more stuff\n",
    "\n",
    "conda install -c pyviz hvplot jupyterlab\n",
    "\n",
    "# setup jupyterlab on ws24\n",
    "\n",
    "## create a config file for jupyterlab\n",
    "\n",
    "# in your home directory somewhere (usually ~/.jupyter/\n",
    "\n",
    "jupyter-lab --generate-config\n",
    "\n",
    "# this creates a jupyter_lab_config.py file in this directory  edit this file so:\n",
    "\n",
    "c.ServerApp.allow_origin = '*'\n",
    "c.ServerApp.allow_remote_access = True\n",
    "\n",
    "# create a password for your jupyter-lab\n",
    "\n",
    "jupyter-lab password\n",
    "\n",
    "# now start up your jupyter server\n",
    "\n",
    "\n"
   ]
  },
  {
   "cell_type": "code",
   "execution_count": null,
   "id": "a7c04a05-994f-4d84-a1ce-45267229db58",
   "metadata": {},
   "outputs": [],
   "source": [
    "# Get the rsoxs catalog\n",
    "import os\n",
    "os.environ[\"TILED_SITE_PROFILES\"] = '/nsls2/software/etc/tiled/profiles'\n",
    "from matplotlib.colors import LogNorm\n",
    "from tiled.client import from_profile\n",
    "from databroker.queries import RawMongo\n",
    "import xarray as xr\n",
    "import copy\n",
    "import numpy as np\n",
    "from matplotlib import pyplot as plt\n",
    "#c = from_profile('rsoxs')\n",
    "import holoviews as hv\n",
    "import hvplot.xarray\n",
    "import datetime\n",
    "\n",
    "import pandas as pd"
   ]
  },
  {
   "cell_type": "markdown",
   "id": "c6583ab0-a49b-4d91-8411-edfb4371d9a2",
   "metadata": {},
   "source": [
    "to set up pyhyper:\n",
    "\n",
    "install your ws24 ssh key into your github account\n",
    "\n",
    "cd ~/\n",
    "git clone git@github.com:usnistgov/PyHyperScattering.git\n",
    "\n",
    "you should place this notebook and the SST1_WAXS_mask.hdf5 and SST1-SAXS_mask.hdf5 files in your home dir (or wherever else you can find them).\n",
    "\n",
    "You will also need to \n",
    "\n",
    "conda install pyfai pyopencl\n",
    "\n",
    "(maybe others too)\n",
    "\n",
    "have fun!\n"
   ]
  },
  {
   "cell_type": "code",
   "execution_count": null,
   "id": "bd57302a-534a-4fe7-9bbb-48ab9ab8cc58",
   "metadata": {},
   "outputs": [],
   "source": [
    "%load_ext line_profiler\n",
    "%load_ext autoreload\n",
    "%autoreload 2"
   ]
  },
  {
   "cell_type": "code",
   "execution_count": null,
   "id": "90525fbf-331b-41e1-b5df-f9c56ea561a2",
   "metadata": {},
   "outputs": [],
   "source": [
    "import sys\n",
    "sys.path.append('./PyHyperScattering/PyHyperScattering/')\n",
    "from SST1RSoXSDB import SST1RSoXSDB\n",
    "from PFEnergySeriesIntegrator import PFEnergySeriesIntegrator\n",
    "rsoxsload = SST1RSoXSDB(corr_mode='none')"
   ]
  },
  {
   "cell_type": "code",
   "execution_count": null,
   "id": "2dd55853-440d-4774-8f3c-d2fb8b847520",
   "metadata": {},
   "outputs": [],
   "source": [
    "# Do a custom search\n",
    "\n",
    "#c = from_profile('rsoxs')\n",
    "#q = RawMongo(start={\"plan_name\": \"short_carbon_scan_nd\"})\n",
    "#results = c.search(q)\n",
    "\n",
    "results = rsoxsload.runSearch(start={'plan_name':'short_carbon_scan_nd','institution':'NIST'})"
   ]
  },
  {
   "cell_type": "code",
   "execution_count": null,
   "id": "b77b8de3-7c75-4aa2-83a8-7aaab499f861",
   "metadata": {},
   "outputs": [],
   "source": [
    "results"
   ]
  },
  {
   "cell_type": "code",
   "execution_count": null,
   "id": "0f7c788a-5841-440f-a57a-faf85b533551",
   "metadata": {},
   "outputs": [],
   "source": [
    "run = results[-1100]"
   ]
  },
  {
   "cell_type": "code",
   "execution_count": null,
   "id": "f440a6c5-5073-4c80-a32e-af79dee1f0ed",
   "metadata": {},
   "outputs": [],
   "source": [
    "itp = rsoxsload.loadRun(results[-10],dims=['energy'])"
   ]
  },
  {
   "cell_type": "code",
   "execution_count": null,
   "id": "aaba71b6-2f72-4dd2-9e76-acb43ea4c69c",
   "metadata": {},
   "outputs": [],
   "source": [
    "integ = PFEnergySeriesIntegrator(maskmethod='nika',maskpath='SST1-SAXS_mask.hdf',geomethod='template_xr',template_xr=itp)"
   ]
  },
  {
   "cell_type": "code",
   "execution_count": null,
   "id": "e7462d82-71cd-46bd-8115-076ad7597029",
   "metadata": {
    "scrolled": true,
    "tags": []
   },
   "outputs": [],
   "source": [
    "integratedimages = integ.integrateImageStack(itp)"
   ]
  },
  {
   "cell_type": "code",
   "execution_count": null,
   "id": "fb5d0d3f-061f-4f23-9527-b6c6284c51ce",
   "metadata": {},
   "outputs": [],
   "source": [
    "integratedimages.unstack('system').sel(energy=270).hvplot(logz=True,clim=(20, 5000),cmap='terrain')"
   ]
  },
  {
   "cell_type": "code",
   "execution_count": null,
   "id": "91150fd6-39ec-49f7-a8c9-d3dd81ad3fc4",
   "metadata": {},
   "outputs": [],
   "source": [
    "integratedimages.unstack('system').hvplot(groupby='energy',dynamic=False,logz=True,clim=(20, 5000),cmap='terrain')"
   ]
  },
  {
   "cell_type": "code",
   "execution_count": null,
   "id": "62c7c9d1-0638-46b1-882e-7927f7af91e4",
   "metadata": {},
   "outputs": [],
   "source": [
    "import RSoXS\n",
    "\n",
    "RSoXS.AR(integratedimages.unstack('system')).hvplot(clim=(-1,1),cmap='bwr')"
   ]
  },
  {
   "cell_type": "code",
   "execution_count": null,
   "id": "8df15e9a-d922-406f-b07c-731f68324ff9",
   "metadata": {},
   "outputs": [],
   "source": [
    "# make a color map for plotting\n",
    "cmap = copy.copy(plt.cm.terrain)\n",
    "cmap.set_under('black') # color below the minimum value\n",
    "cmap.set_over('purple') # color above\n",
    "cmap.set_bad('black') # color for negative numbers (nans on log scale)"
   ]
  },
  {
   "cell_type": "code",
   "execution_count": null,
   "id": "f14bc6ba-5fd7-4eb7-b362-c362d911d323",
   "metadata": {},
   "outputs": [],
   "source": [
    "# use xarray's default facetgrip plot to look at everything at once\n",
    "itp.unstack('system').coarsen(pix_x=8,pix_y=8,boundary='trim',coord_func='mean').mean().plot(col='energy',col_wrap=8,norm=LogNorm(vmin=10, vmax=6000),cmap=cmap)"
   ]
  },
  {
   "cell_type": "code",
   "execution_count": null,
   "id": "8ec292e6-10a8-4bea-9223-4a67fd2355a2",
   "metadata": {},
   "outputs": [],
   "source": [
    "itp.sel(energy=285,method='nearest')"
   ]
  },
  {
   "cell_type": "code",
   "execution_count": null,
   "id": "421a9f8f-b392-4929-92e3-13bdddb26946",
   "metadata": {},
   "outputs": [],
   "source": [
    "%%time\n",
    "# look at one energy using holoviews\n",
    "itp.sel(energy=285,method='nearest').hvplot.image(data_aspect=1,dynamic=False,logz=True,clim=(20, 5000),cmap='terrain')"
   ]
  },
  {
   "cell_type": "code",
   "execution_count": null,
   "id": "d36032d5-8ca4-4a54-a373-f97d0789ddaa",
   "metadata": {},
   "outputs": [],
   "source": [
    "%%time\n",
    "# look at all of the images with a nice automatic slider\n",
    "itp.unstack('system').coarsen(pix_x=4,pix_y=4,boundary='trim',coord_func='mean').mean().hvplot(groupby='energy',data_aspect=1,dynamic=False,logz=True,clim=(20, 5000),cmap='terrain')\n",
    "# to add: http://holoviews.org/reference/streams/bokeh/linked_pointer_crosssection.html"
   ]
  },
  {
   "cell_type": "code",
   "execution_count": null,
   "id": "85fb7cd4-07ff-4e2d-be8e-a013c405d3f7",
   "metadata": {},
   "outputs": [],
   "source": [
    "%%time\n",
    "itp.unstack('system').coarsen(pix_x=8,pix_y=8,boundary='trim',coord_func='mean').mean().hvplot(by='energy',dynamic=False,logz=True,clim=(20, 50000),cmap='terrain',height=150,width=200).grid('energy')"
   ]
  },
  {
   "cell_type": "code",
   "execution_count": null,
   "id": "c659756f-ccbb-412a-bf1c-d8aea1eb8a86",
   "metadata": {},
   "outputs": [],
   "source": []
  }
 ],
 "metadata": {
  "kernelspec": {
   "display_name": "Python 3",
   "language": "python",
   "name": "python3"
  },
  "language_info": {
   "codemirror_mode": {
    "name": "ipython",
    "version": 3
   },
   "file_extension": ".py",
   "mimetype": "text/x-python",
   "name": "python",
   "nbconvert_exporter": "python",
   "pygments_lexer": "ipython3",
   "version": "3.7.10"
  }
 },
 "nbformat": 4,
 "nbformat_minor": 5
}
