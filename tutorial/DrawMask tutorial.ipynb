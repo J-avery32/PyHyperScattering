{
 "cells": [
  {
   "cell_type": "markdown",
   "id": "6de6e1d1-3328-4fe5-a95c-fe5d472a1eca",
   "metadata": {},
   "source": [
    "# Tutorial for DrawMask utility\n",
    "\n",
    "This is a rudimentary (emphasis - rudimentary) utility to draw masks for PyHyper integration.\n",
    "\n",
    "This example uses a frame from DataBroker, but you can load any PyHyper raw array.\n",
    "\n"
   ]
  },
  {
   "cell_type": "code",
   "execution_count": null,
   "id": "90525fbf-331b-41e1-b5df-f9c56ea561a2",
   "metadata": {
    "tags": []
   },
   "outputs": [],
   "source": [
    "import sys\n",
    "sys.path.append('./PyHyperScattering/PyHyperScattering/')\n",
    "from SST1RSoXSDB import SST1RSoXSDB\n",
    "from PFEnergySeriesIntegrator import PFEnergySeriesIntegrator\n",
    "from IntegrationUtils import DrawMask"
   ]
  },
  {
   "cell_type": "code",
   "execution_count": null,
   "id": "2dd55853-440d-4774-8f3c-d2fb8b847520",
   "metadata": {},
   "outputs": [],
   "source": [
    "# Get an example raw xarray\n",
    "rsoxsload = SST1RSoXSDB(corr_mode='none',catalog_kwargs={'structure_clients':'dask'})\n",
    "results = rsoxsload.runSearch(start={'plan_name':'short_carbon_scan_nd','institution':'NIST'})\n",
    "run = results[-10]\n",
    "itp = rsoxsload.loadRun(results[-10],dims=['energy'])"
   ]
  },
  {
   "cell_type": "markdown",
   "id": "73919b0c-7737-4397-8bce-54fc15a444cd",
   "metadata": {},
   "source": [
    "To begin, let's punch this array down to a single energy.  Note, you could also do this by averaging along system to see *all* the artifacts in an image stack."
   ]
  },
  {
   "cell_type": "code",
   "execution_count": null,
   "id": "09746cc9-87bd-4281-9b14-8ec7fc40e405",
   "metadata": {
    "tags": []
   },
   "outputs": [],
   "source": [
    "frame = itp.sel(energy=280)\n",
    "frame = itp.mean('system')\n",
    "frame.hvplot(data_aspect=1,cmap='terrain',logz=True,clim=(5,5000))"
   ]
  },
  {
   "cell_type": "markdown",
   "id": "fcef4fec-6b12-4005-b152-596645ae5ff6",
   "metadata": {},
   "source": [
    "All we need to do here is just start the DrawMask client and we can interactively draw a mask following the instructions given."
   ]
  },
  {
   "cell_type": "code",
   "execution_count": null,
   "id": "28ed6ac5-0065-4db9-9741-55a30c13c6a2",
   "metadata": {},
   "outputs": [],
   "source": [
    "\n",
    "mask = DrawMask(frame)\n",
    "mask.ui()"
   ]
  },
  {
   "cell_type": "markdown",
   "id": "8064fd57-32a0-4665-b88f-6436288e6d17",
   "metadata": {},
   "source": [
    "Great!  So now there are two options.  We can either get that mask directly as a numpy array, and/or save the instructions for making it to disk.\n",
    "\n",
    "To get an array, just use the mask.mask attribute:"
   ]
  },
  {
   "cell_type": "code",
   "execution_count": null,
   "id": "4bae8772-aabe-4afb-8f6a-8480d665262f",
   "metadata": {},
   "outputs": [],
   "source": [
    "import matplotlib.pyplot as plt\n",
    "plt.imshow(mask.mask)"
   ]
  },
  {
   "cell_type": "markdown",
   "id": "ab9bc6d0-31db-4bbf-8f61-5216a80a2225",
   "metadata": {},
   "source": [
    "To save, just use mask.save:"
   ]
  },
  {
   "cell_type": "code",
   "execution_count": null,
   "id": "bdb1db0b-68eb-4e70-8207-9b4018f22b79",
   "metadata": {},
   "outputs": [],
   "source": [
    "mask.save('test.msk')"
   ]
  },
  {
   "cell_type": "markdown",
   "id": "66d05b79-3be6-4378-899f-cfe86a87a1e0",
   "metadata": {},
   "source": [
    "BONUS: what if we want to load that serialized mask?  EASY!"
   ]
  },
  {
   "cell_type": "code",
   "execution_count": null,
   "id": "babe7d36-a193-4e55-8506-537b9d2a14d1",
   "metadata": {},
   "outputs": [],
   "source": [
    "#make a DrawMask object like before\n",
    "mask_r = DrawMask(frame)\n",
    "#but load the data from test.msk\n",
    "mask_r.load('test.msk')\n",
    "#and now we can get the UI back\n",
    "mask_r.ui()"
   ]
  }
 ],
 "metadata": {
  "kernelspec": {
   "display_name": "Python 3",
   "language": "python",
   "name": "python3"
  },
  "language_info": {
   "codemirror_mode": {
    "name": "ipython",
    "version": 3
   },
   "file_extension": ".py",
   "mimetype": "text/x-python",
   "name": "python",
   "nbconvert_exporter": "python",
   "pygments_lexer": "ipython3",
   "version": "3.7.10"
  }
 },
 "nbformat": 4,
 "nbformat_minor": 5
}
